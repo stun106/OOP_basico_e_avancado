{
 "cells": [
  {
   "attachments": {},
   "cell_type": "markdown",
   "metadata": {},
   "source": [
    "<h1>Introdução a Programação Orientada a Objeto.</h1>\n",
    "<h3>Class - Classes são models para criar novos objetos</h3>\n",
    "<p>\n",
    "◼ As classes geram novos objetos (instâncias) que podem ter seus próprios atributos e métodos.<br>\n",
    "◼ Os objetos gerados pela classe podem usar seus dados internos para realizar várias ações.<br>\n",
    "◼ Por convenção, usamos PascalCase para nomes de Classe.\n",
    "</p>"
   ]
  },
  {
   "cell_type": "code",
   "execution_count": null,
   "metadata": {},
   "outputs": [],
   "source": [
    "var = \"José\" #str\n",
    "print(var.upper()) \n",
    "#da classe str() usei um metodo upper()"
   ]
  },
  {
   "attachments": {},
   "cell_type": "markdown",
   "metadata": {},
   "source": [
    "<h3>Atributos</h3>\n",
    "◼ Quando falamos de atributos, significa dados atribuidos a variaveis dentro da classe.<br>\n",
    "\n",
    "\n"
   ]
  },
  {
   "cell_type": "code",
   "execution_count": null,
   "metadata": {},
   "outputs": [],
   "source": [
    "class Pessoa:\n",
    "    nome = \"Lulu\"\n",
    "\n",
    "p1 = Pessoa()\n",
    "\n",
    "print(p1.nome)\n"
   ]
  },
  {
   "attachments": {},
   "cell_type": "markdown",
   "metadata": {},
   "source": [
    "Podemos utilizar a palavra reservada <strong>self</strong> para referênciar cada atributo para objetos diferentes, sabendo que nossa classe é um modelo para gerar novos objetos, utilizamos um método construtor para passar esses dados a nossos objetos.<br><br>\n",
    "Metodo construtor: <b>def__init__(self):</b><br>\n",
    "o metodo construtor e composto por dois underline ou dunder-scores essa função carregará parâmetros que fará referencia aos dados atribuidos em nossos atributos.\n",
    "\n"
   ]
  },
  {
   "cell_type": "code",
   "execution_count": null,
   "metadata": {},
   "outputs": [],
   "source": [
    "class Pessoa:\n",
    "    def __init__(self,nome,sobrenome):\n",
    "        self.name = nome\n",
    "        self.sobrenome = sobrenome\n",
    "\n",
    "\n",
    "p1= Pessoa(\"Cirilo\",\"da Silva\")\n",
    "print(f'da minha classe Pessoa foi gerado um objeto com os seguintes atributos\\n Nome: {p1.name}\\n Sobrenome: {p1.sobrenome} \\n')\n",
    "\n",
    "p2 = Pessoa(\"Maria\",\"Joaquina\")\n",
    "print(f'da minha classe Pessoa foi gerado um novo objeto com os seguintes atributos\\n Nome: {p2.name}\\n Sobrenome: {p2.sobrenome} ')"
   ]
  },
  {
   "attachments": {},
   "cell_type": "markdown",
   "metadata": {},
   "source": [
    "<h3>Métodos</h3>\n",
    "◼ Toda classe possui Métodos ou Funções, esses métodos traram funcionabilidades a nossa classe.\n",
    "todo comportamento do nosso objeto é referenciado por <b>self</b> ela referencia nossa instância, por isso e padrão de estrutura utiliza-lo como primeiro parâmetro na criação de nossos métodos.\n",
    "\n",
    "obs: caso tenha dificudades em entender alguns conceitos sobre métodos, volte um assunto e estude funções em python."
   ]
  },
  {
   "cell_type": "code",
   "execution_count": null,
   "metadata": {},
   "outputs": [],
   "source": [
    "#Métodos em instâncias de classe\n",
    "class Carro:\n",
    "    def __init__(self,carro):\n",
    "        self.nome = carro\n",
    "\n",
    "    def acelerar(self): #<- criando método para nossos objetos\n",
    "        return f'{self.nome}, esta acelerando !'\n",
    "\n",
    "carro1 = Carro(\"Civic-Si\") #<- instância 1\n",
    "print(carro1.nome)\n",
    "print(carro1.acelerar()) \n",
    "\n",
    "carro2 = Carro(\"Golf-GTR\") #<- instância 2\n",
    "print(carro2.nome)\n",
    "print(carro2.acelerar())"
   ]
  },
  {
   "attachments": {},
   "cell_type": "markdown",
   "metadata": {},
   "source": [
    "<h3>Revisando!</h3>\n",
    "\n",
    "◼ Todas as classes são Moldes para novos objetos.<br>\n",
    "◼ Instancias da classe possuem dados.<br>\n",
    "◼ Uma classe pode gerar várias instancias.<br>\n",
    "◼ Na classe o self é a própria instancia que será criada.<br>"
   ]
  },
  {
   "attachments": {},
   "cell_type": "markdown",
   "metadata": {},
   "source": [
    "<h3>Desafie seus conhecimentos</h3>\n",
    "\n",
    "Exercício 1 - Crie uma classe chamada SysInformatica que possa ser utilizado por uma loja de suprimentos\n",
    "de informática para representar uma fatura de um item vendido na loja. Uma fatura deve incluir as seguintes\n",
    "informações como atributos:<br><br>\n",
    "• o nome do item;<br>\n",
    "• o preço unitário do item;<br>\n",
    "• quantidade de item a ser faturado;<br>\n",
    "• valor total da fatura; <br>\n",
    "\n",
    "Sua classe deve ter um construtor que inicialize os quatro atributos. \n",
    "A quantidade de item a ser faturado deve ser configurada como 0. \n",
    "Além disso, forneça um método chamado Gerarfatura que calcula o valor da fatura (isso é, multiplica a quantidade pelo preço por item)Escreva um aplicativo de teste que demonstra as capacidades da classe SysInformatica."
   ]
  }
 ],
 "metadata": {
  "kernelspec": {
   "display_name": "Python 3",
   "language": "python",
   "name": "python3"
  },
  "language_info": {
   "codemirror_mode": {
    "name": "ipython",
    "version": 3
   },
   "file_extension": ".py",
   "mimetype": "text/x-python",
   "name": "python",
   "nbconvert_exporter": "python",
   "pygments_lexer": "ipython3",
   "version": "3.10.10"
  },
  "orig_nbformat": 4,
  "vscode": {
   "interpreter": {
    "hash": "5d4d0dd40393e795a81f4ee5d4a443b644a3b2bb45f64a4345c59a70fb6896c0"
   }
  }
 },
 "nbformat": 4,
 "nbformat_minor": 2
}
